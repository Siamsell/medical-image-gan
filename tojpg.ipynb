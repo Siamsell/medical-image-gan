{
 "cells": [
  {
   "cell_type": "code",
   "execution_count": 1,
   "id": "c1822ef5",
   "metadata": {
    "_cell_guid": "b1076dfc-b9ad-4769-8c92-a6c4dae69d19",
    "_uuid": "8f2839f25d086af736a60e9eeb907d3b93b6e0e5",
    "execution": {
     "iopub.execute_input": "2025-04-27T21:35:28.143112Z",
     "iopub.status.busy": "2025-04-27T21:35:28.142678Z",
     "iopub.status.idle": "2025-04-27T21:35:28.147917Z",
     "shell.execute_reply": "2025-04-27T21:35:28.147142Z"
    },
    "papermill": {
     "duration": 0.010273,
     "end_time": "2025-04-27T21:35:28.149467",
     "exception": false,
     "start_time": "2025-04-27T21:35:28.139194",
     "status": "completed"
    },
    "tags": []
   },
   "outputs": [],
   "source": [
    "#In this notebook, the code loops through a series of folders containing medical images\n",
    "#in DICOM (.dcm) format,\n",
    "#retrieves the images, processes them by resizing and normalizing them to 256x256 pixels, \n",
    "#and saves them as JPG files into an output folder."
   ]
  },
  {
   "cell_type": "code",
   "execution_count": 2,
   "id": "ebaeb229",
   "metadata": {
    "execution": {
     "iopub.execute_input": "2025-04-27T21:35:28.154069Z",
     "iopub.status.busy": "2025-04-27T21:35:28.153699Z",
     "iopub.status.idle": "2025-04-27T21:39:21.362073Z",
     "shell.execute_reply": "2025-04-27T21:39:21.361166Z"
    },
    "papermill": {
     "duration": 233.213037,
     "end_time": "2025-04-27T21:39:21.364353",
     "exception": false,
     "start_time": "2025-04-27T21:35:28.151316",
     "status": "completed"
    },
    "tags": []
   },
   "outputs": [
    {
     "name": "stdout",
     "output_type": "stream",
     "text": [
      "Traitement du patient: PANCREAS_0001\n",
      "Patient 'PANCREAS_0001' traité avec 128 slices.\n",
      "Traitement du patient: PANCREAS_0002\n",
      "Patient 'PANCREAS_0002' traité avec 128 slices.\n",
      "Traitement du patient: PANCREAS_0003\n",
      "Patient 'PANCREAS_0003' traité avec 128 slices.\n",
      "Traitement du patient: Pancreas-CT\n",
      "Patient 'Pancreas-CT' traité avec 128 slices.\n",
      "Traitement du patient: Pancreas-CT_3\n",
      "Patient 'Pancreas-CT_3' traité avec 128 slices.\n",
      "Traitement du patient: Pancreas-CT_4\n",
      "Patient 'Pancreas-CT_4' traité avec 128 slices.\n",
      "Traitement du patient: Pancreas-CT_5\n",
      "Patient 'Pancreas-CT_5' traité avec 128 slices.\n",
      "Traitement du patient: Pancreas-CT_6\n",
      "Patient 'Pancreas-CT_6' traité avec 128 slices.\n",
      "Traitement du patient: Pancreas-CT_7\n",
      "Patient 'Pancreas-CT_7' traité avec 128 slices.\n"
     ]
    },
    {
     "data": {
      "text/plain": [
       "'/kaggle/working/output_images.zip'"
      ]
     },
     "execution_count": 2,
     "metadata": {},
     "output_type": "execute_result"
    }
   ],
   "source": [
    "import os\n",
    "import shutil\n",
    "import numpy as np\n",
    "import pydicom\n",
    "from PIL import Image\n",
    "#path de mon fichier dans sataset\n",
    "root_dir = \"/kaggle/input/medicale-dataset\"\n",
    "\n",
    "# makdirs pour crier un dossier pour les images jpg \n",
    "output_root = \"/kaggle/working/output_jpg/\"\n",
    "os.makedirs(output_root, exist_ok=True)\n",
    "\n",
    "# Parcours des sous-dossiers jsq a au drn\n",
    "for patient_folder in sorted(os.listdir(root_dir)):\n",
    "    patient_path = os.path.join(root_dir, patient_folder)\n",
    "\n",
    "    if not os.path.isdir(patient_path):\n",
    "        continue\n",
    "\n",
    "    print(f\"Traitement du patient: {patient_folder}\")\n",
    "\n",
    "    try:\n",
    "        # Recherche dicom  .dcm\n",
    "        dicom_files = []\n",
    "        for root, _, files in os.walk(patient_path):\n",
    "            for file_name in sorted(files):\n",
    "                if file_name.endswith(\".dcm\"):\n",
    "                    file_path = os.path.join(root, file_name)\n",
    "                    dicom_files.append(pydicom.dcmread(file_path))\n",
    "\n",
    "        if not dicom_files:\n",
    "            print(f\"Aucun fichier DICOM dans {patient_folder}\")\n",
    "            continue\n",
    "\n",
    "        # Tri par position Z\n",
    "        dicom_files.sort(key=lambda x: float(x.ImagePositionPatient[2]))\n",
    "        volume = np.stack([d.pixel_array for d in dicom_files])\n",
    "\n",
    "        # Limite  128 slices=volume\n",
    "        volume = volume[:128]\n",
    "\n",
    "        #  dossier de sortie pour le patient\n",
    "        patient_output = os.path.join(output_root, patient_folder)\n",
    "        os.makedirs(patient_output, exist_ok=True)\n",
    "\n",
    "        for i, slice_img in enumerate(volume):\n",
    "            img = slice_img.astype(\"float32\")\n",
    "            img = (img - img.min()) / (img.max() - img.min() + 1e-5)\n",
    "            img = (img * 255).astype(\"uint8\")\n",
    "            img_pil = Image.fromarray(img).resize((256, 256)) #resize \n",
    "            img_pil.save(os.path.join(patient_output, f\"slice_{i:03d}.jpg\"))\n",
    "\n",
    "        print(f\"Patient '{patient_folder}' traité avec {len(volume)} slices.\")\n",
    "\n",
    "    except Exception as e:\n",
    "        print(f\"Erreur dans '{patient_folder}': {e}\")\n",
    "        # I used DICOM dataset folders, converted them to .zip, \n",
    "        #and uploaded them to Kaggle datasets (it takes a little while to load). Then\n",
    "        #in your notebook,upload the input and add your already uploaded dataset.\"\n",
    "     \n",
    "\n",
    "\n",
    "# Créer un fichier ZIP de tout le dossier d'images\n",
    "shutil.make_archive(\"/kaggle/working/output_images\", 'zip', output_root) #pour telecharger les images .zip"
   ]
  }
 ],
 "metadata": {
  "kaggle": {
   "accelerator": "none",
   "dataSources": [
    {
     "datasetId": 7117256,
     "sourceId": 11591302,
     "sourceType": "datasetVersion"
    }
   ],
   "dockerImageVersionId": 31012,
   "isGpuEnabled": false,
   "isInternetEnabled": true,
   "language": "python",
   "sourceType": "notebook"
  },
  "kernelspec": {
   "display_name": "Python 3",
   "language": "python",
   "name": "python3"
  },
  "language_info": {
   "codemirror_mode": {
    "name": "ipython",
    "version": 3
   },
   "file_extension": ".py",
   "mimetype": "text/x-python",
   "name": "python",
   "nbconvert_exporter": "python",
   "pygments_lexer": "ipython3",
   "version": "3.11.11"
  },
  "papermill": {
   "default_parameters": {},
   "duration": 238.754483,
   "end_time": "2025-04-27T21:39:22.190992",
   "environment_variables": {},
   "exception": null,
   "input_path": "__notebook__.ipynb",
   "output_path": "__notebook__.ipynb",
   "parameters": {},
   "start_time": "2025-04-27T21:35:23.436509",
   "version": "2.6.0"
  }
 },
 "nbformat": 4,
 "nbformat_minor": 5
}
